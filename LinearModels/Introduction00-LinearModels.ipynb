{
 "cells": [
  {
   "cell_type": "markdown",
   "metadata": {},
   "source": [
    "# Linear Regression\n",
    "\n",
    "In this notebook, we practice linear models including a linear and logistic regressions.\n",
    "\n",
    "## Goals:\n",
    "* Practice linear regression and logistic regression\n",
    "* Implement a (stochastic) gradient descent\n",
    "* Play with Python :)\n",
    "\n",
    "Let's start with basic imports."
   ]
  },
  {
   "cell_type": "code",
   "execution_count": 1,
   "metadata": {},
   "outputs": [],
   "source": [
    "import matplotlib as mpl\n",
    "import matplotlib.pyplot as plt\n",
    "%matplotlib inline\n",
    "mpl.rcParams['figure.figsize'] = [8, 6]\n",
    "mpl.rcParams['font.size'] = 16\n",
    "mpl.rcParams['axes.grid'] = True\n",
    "import numpy as np "
   ]
  },
  {
   "cell_type": "markdown",
   "metadata": {},
   "source": [
    "# Linear Regression\n",
    "\n",
    "For this practice, we will generate a fake data $y=ax+b+\\epsilon$ where $\\epsilon$ is a gaussian noise $\\mathcal{N}(\\mu=0,\\sigma=1)$."
   ]
  },
  {
   "cell_type": "code",
   "execution_count": 3,
   "metadata": {},
   "outputs": [],
   "source": [
    "def sample_linear_regression(a,b,num_sample=1000,seed=123):\n",
    "    '''\n",
    "    Generate a fake data sample for linear regression of y=ax+b\n",
    "    y values are smeared by a normal distribution\n",
    "    INPUT:\n",
    "      - a ... float, slope part of a linear equation\n",
    "      - b ... float, offset part of a linear equation\n",
    "    '''    \n",
    "    np.random.seed(seed)\n",
    "    xval = np.random.random(num_sample)*10\n",
    "    yval = a*xval + b + np.random.normal(scale=1.0,size=num_sample)\n",
    "\n",
    "    return xval,yval\n",
    "\n",
    "def sample_cubic_regression(a,b,c,num_sample=1000,seed=123):\n",
    "    '''\n",
    "    Generate a fake data sample for linear regression of y=ax+b\n",
    "    y values are smeared by a normal distribution\n",
    "    INPUT:\n",
    "      - c ... cubic term\n",
    "      - a ... float, slope part of a linear equation\n",
    "      - b ... float, offset part of a linear equation\n",
    "    '''    \n",
    "    np.random.seed(seed)\n",
    "    xval = np.random.random(num_sample)*10\n",
    "    yval = c*np.power(xval, 2) + a*xval + b + np.random.normal(scale=1.0,size=num_sample)\n",
    "\n",
    "    return xval,yval"
   ]
  },
  {
   "cell_type": "markdown",
   "metadata": {},
   "source": [
    "Generate a sample with $(a,b)=(2.0,1.5)$ with 40 points."
   ]
  },
  {
   "cell_type": "code",
   "execution_count": 14,
   "metadata": {},
   "outputs": [],
   "source": [
    "a,b,c=2.0,1.5, -0.2\n",
    "x,y=sample_linear_regression(a,b,num_sample=100)\n",
    "x2,y2 =sample_cubic_regression(a,b,c,num_sample=100,seed=123)\n"
   ]
  },
  {
   "cell_type": "markdown",
   "metadata": {},
   "source": [
    "Let's visualize using `matplotlib`"
   ]
  },
  {
   "cell_type": "code",
   "execution_count": 13,
   "metadata": {},
   "outputs": [
    {
     "output_type": "display_data",
     "data": {
      "text/plain": "<Figure size 864x576 with 1 Axes>",
      "image/svg+xml": "<?xml version=\"1.0\" encoding=\"utf-8\" standalone=\"no\"?>\r\n<!DOCTYPE svg PUBLIC \"-//W3C//DTD SVG 1.1//EN\"\r\n  \"http://www.w3.org/Graphics/SVG/1.1/DTD/svg11.dtd\">\r\n<!-- Created with matplotlib (https://matplotlib.org/) -->\r\n<svg height=\"465.958125pt\" version=\"1.1\" viewBox=\"0 0 697.3625 465.958125\" width=\"697.3625pt\" xmlns=\"http://www.w3.org/2000/svg\" xmlns:xlink=\"http://www.w3.org/1999/xlink\">\r\n <defs>\r\n  <style type=\"text/css\">\r\n*{stroke-linecap:butt;stroke-linejoin:round;}\r\n  </style>\r\n </defs>\r\n <g id=\"figure_1\">\r\n  <g id=\"patch_1\">\r\n   <path d=\"M 0 465.958125 \r\nL 697.3625 465.958125 \r\nL 697.3625 0 \r\nL 0 0 \r\nz\r\n\" style=\"fill:#ffffff;\"/>\r\n  </g>\r\n  <g id=\"axes_1\">\r\n   <g id=\"patch_2\">\r\n    <path d=\"M 20.5625 442.08 \r\nL 690.1625 442.08 \r\nL 690.1625 7.2 \r\nL 20.5625 7.2 \r\nz\r\n\" style=\"fill:#ffffff;\"/>\r\n   </g>\r\n   <g id=\"matplotlib.axis_1\">\r\n    <g id=\"xtick_1\">\r\n     <g id=\"line2d_1\">\r\n      <path clip-path=\"url(#p1cdfa5a47c)\" d=\"M 47.573569 442.08 \r\nL 47.573569 7.2 \r\n\" style=\"fill:none;stroke:#b0b0b0;stroke-linecap:square;stroke-width:0.8;\"/>\r\n     </g>\r\n     <g id=\"line2d_2\">\r\n      <defs>\r\n       <path d=\"M 0 0 \r\nL 0 3.5 \r\n\" id=\"me9918ee3c5\" style=\"stroke:#000000;stroke-width:0.8;\"/>\r\n      </defs>\r\n      <g>\r\n       <use style=\"stroke:#000000;stroke-width:0.8;\" x=\"47.573569\" xlink:href=\"#me9918ee3c5\" y=\"442.08\"/>\r\n      </g>\r\n     </g>\r\n     <g id=\"text_1\">\r\n      <!-- 0 -->\r\n      <defs>\r\n       <path d=\"M 31.78125 66.40625 \r\nQ 24.171875 66.40625 20.328125 58.90625 \r\nQ 16.5 51.421875 16.5 36.375 \r\nQ 16.5 21.390625 20.328125 13.890625 \r\nQ 24.171875 6.390625 31.78125 6.390625 \r\nQ 39.453125 6.390625 43.28125 13.890625 \r\nQ 47.125 21.390625 47.125 36.375 \r\nQ 47.125 51.421875 43.28125 58.90625 \r\nQ 39.453125 66.40625 31.78125 66.40625 \r\nz\r\nM 31.78125 74.21875 \r\nQ 44.046875 74.21875 50.515625 64.515625 \r\nQ 56.984375 54.828125 56.984375 36.375 \r\nQ 56.984375 17.96875 50.515625 8.265625 \r\nQ 44.046875 -1.421875 31.78125 -1.421875 \r\nQ 19.53125 -1.421875 13.0625 8.265625 \r\nQ 6.59375 17.96875 6.59375 36.375 \r\nQ 6.59375 54.828125 13.0625 64.515625 \r\nQ 19.53125 74.21875 31.78125 74.21875 \r\nz\r\n\" id=\"DejaVuSans-48\"/>\r\n      </defs>\r\n      <g transform=\"translate(44.392319 456.678437)scale(0.1 -0.1)\">\r\n       <use xlink:href=\"#DejaVuSans-48\"/>\r\n      </g>\r\n     </g>\r\n    </g>\r\n    <g id=\"xtick_2\">\r\n     <g id=\"line2d_3\">\r\n      <path clip-path=\"url(#p1cdfa5a47c)\" d=\"M 171.630854 442.08 \r\nL 171.630854 7.2 \r\n\" style=\"fill:none;stroke:#b0b0b0;stroke-linecap:square;stroke-width:0.8;\"/>\r\n     </g>\r\n     <g id=\"line2d_4\">\r\n      <g>\r\n       <use style=\"stroke:#000000;stroke-width:0.8;\" x=\"171.630854\" xlink:href=\"#me9918ee3c5\" y=\"442.08\"/>\r\n      </g>\r\n     </g>\r\n     <g id=\"text_2\">\r\n      <!-- 2 -->\r\n      <defs>\r\n       <path d=\"M 19.1875 8.296875 \r\nL 53.609375 8.296875 \r\nL 53.609375 0 \r\nL 7.328125 0 \r\nL 7.328125 8.296875 \r\nQ 12.9375 14.109375 22.625 23.890625 \r\nQ 32.328125 33.6875 34.8125 36.53125 \r\nQ 39.546875 41.84375 41.421875 45.53125 \r\nQ 43.3125 49.21875 43.3125 52.78125 \r\nQ 43.3125 58.59375 39.234375 62.25 \r\nQ 35.15625 65.921875 28.609375 65.921875 \r\nQ 23.96875 65.921875 18.8125 64.3125 \r\nQ 13.671875 62.703125 7.8125 59.421875 \r\nL 7.8125 69.390625 \r\nQ 13.765625 71.78125 18.9375 73 \r\nQ 24.125 74.21875 28.421875 74.21875 \r\nQ 39.75 74.21875 46.484375 68.546875 \r\nQ 53.21875 62.890625 53.21875 53.421875 \r\nQ 53.21875 48.921875 51.53125 44.890625 \r\nQ 49.859375 40.875 45.40625 35.40625 \r\nQ 44.1875 33.984375 37.640625 27.21875 \r\nQ 31.109375 20.453125 19.1875 8.296875 \r\nz\r\n\" id=\"DejaVuSans-50\"/>\r\n      </defs>\r\n      <g transform=\"translate(168.449604 456.678437)scale(0.1 -0.1)\">\r\n       <use xlink:href=\"#DejaVuSans-50\"/>\r\n      </g>\r\n     </g>\r\n    </g>\r\n    <g id=\"xtick_3\">\r\n     <g id=\"line2d_5\">\r\n      <path clip-path=\"url(#p1cdfa5a47c)\" d=\"M 295.688138 442.08 \r\nL 295.688138 7.2 \r\n\" style=\"fill:none;stroke:#b0b0b0;stroke-linecap:square;stroke-width:0.8;\"/>\r\n     </g>\r\n     <g id=\"line2d_6\">\r\n      <g>\r\n       <use style=\"stroke:#000000;stroke-width:0.8;\" x=\"295.688138\" xlink:href=\"#me9918ee3c5\" y=\"442.08\"/>\r\n      </g>\r\n     </g>\r\n     <g id=\"text_3\">\r\n      <!-- 4 -->\r\n      <defs>\r\n       <path d=\"M 37.796875 64.3125 \r\nL 12.890625 25.390625 \r\nL 37.796875 25.390625 \r\nz\r\nM 35.203125 72.90625 \r\nL 47.609375 72.90625 \r\nL 47.609375 25.390625 \r\nL 58.015625 25.390625 \r\nL 58.015625 17.1875 \r\nL 47.609375 17.1875 \r\nL 47.609375 0 \r\nL 37.796875 0 \r\nL 37.796875 17.1875 \r\nL 4.890625 17.1875 \r\nL 4.890625 26.703125 \r\nz\r\n\" id=\"DejaVuSans-52\"/>\r\n      </defs>\r\n      <g transform=\"translate(292.506888 456.678437)scale(0.1 -0.1)\">\r\n       <use xlink:href=\"#DejaVuSans-52\"/>\r\n      </g>\r\n     </g>\r\n    </g>\r\n    <g id=\"xtick_4\">\r\n     <g id=\"line2d_7\">\r\n      <path clip-path=\"url(#p1cdfa5a47c)\" d=\"M 419.745423 442.08 \r\nL 419.745423 7.2 \r\n\" style=\"fill:none;stroke:#b0b0b0;stroke-linecap:square;stroke-width:0.8;\"/>\r\n     </g>\r\n     <g id=\"line2d_8\">\r\n      <g>\r\n       <use style=\"stroke:#000000;stroke-width:0.8;\" x=\"419.745423\" xlink:href=\"#me9918ee3c5\" y=\"442.08\"/>\r\n      </g>\r\n     </g>\r\n     <g id=\"text_4\">\r\n      <!-- 6 -->\r\n      <defs>\r\n       <path d=\"M 33.015625 40.375 \r\nQ 26.375 40.375 22.484375 35.828125 \r\nQ 18.609375 31.296875 18.609375 23.390625 \r\nQ 18.609375 15.53125 22.484375 10.953125 \r\nQ 26.375 6.390625 33.015625 6.390625 \r\nQ 39.65625 6.390625 43.53125 10.953125 \r\nQ 47.40625 15.53125 47.40625 23.390625 \r\nQ 47.40625 31.296875 43.53125 35.828125 \r\nQ 39.65625 40.375 33.015625 40.375 \r\nz\r\nM 52.59375 71.296875 \r\nL 52.59375 62.3125 \r\nQ 48.875 64.0625 45.09375 64.984375 \r\nQ 41.3125 65.921875 37.59375 65.921875 \r\nQ 27.828125 65.921875 22.671875 59.328125 \r\nQ 17.53125 52.734375 16.796875 39.40625 \r\nQ 19.671875 43.65625 24.015625 45.921875 \r\nQ 28.375 48.1875 33.59375 48.1875 \r\nQ 44.578125 48.1875 50.953125 41.515625 \r\nQ 57.328125 34.859375 57.328125 23.390625 \r\nQ 57.328125 12.15625 50.6875 5.359375 \r\nQ 44.046875 -1.421875 33.015625 -1.421875 \r\nQ 20.359375 -1.421875 13.671875 8.265625 \r\nQ 6.984375 17.96875 6.984375 36.375 \r\nQ 6.984375 53.65625 15.1875 63.9375 \r\nQ 23.390625 74.21875 37.203125 74.21875 \r\nQ 40.921875 74.21875 44.703125 73.484375 \r\nQ 48.484375 72.75 52.59375 71.296875 \r\nz\r\n\" id=\"DejaVuSans-54\"/>\r\n      </defs>\r\n      <g transform=\"translate(416.564173 456.678437)scale(0.1 -0.1)\">\r\n       <use xlink:href=\"#DejaVuSans-54\"/>\r\n      </g>\r\n     </g>\r\n    </g>\r\n    <g id=\"xtick_5\">\r\n     <g id=\"line2d_9\">\r\n      <path clip-path=\"url(#p1cdfa5a47c)\" d=\"M 543.802707 442.08 \r\nL 543.802707 7.2 \r\n\" style=\"fill:none;stroke:#b0b0b0;stroke-linecap:square;stroke-width:0.8;\"/>\r\n     </g>\r\n     <g id=\"line2d_10\">\r\n      <g>\r\n       <use style=\"stroke:#000000;stroke-width:0.8;\" x=\"543.802707\" xlink:href=\"#me9918ee3c5\" y=\"442.08\"/>\r\n      </g>\r\n     </g>\r\n     <g id=\"text_5\">\r\n      <!-- 8 -->\r\n      <defs>\r\n       <path d=\"M 31.78125 34.625 \r\nQ 24.75 34.625 20.71875 30.859375 \r\nQ 16.703125 27.09375 16.703125 20.515625 \r\nQ 16.703125 13.921875 20.71875 10.15625 \r\nQ 24.75 6.390625 31.78125 6.390625 \r\nQ 38.8125 6.390625 42.859375 10.171875 \r\nQ 46.921875 13.96875 46.921875 20.515625 \r\nQ 46.921875 27.09375 42.890625 30.859375 \r\nQ 38.875 34.625 31.78125 34.625 \r\nz\r\nM 21.921875 38.8125 \r\nQ 15.578125 40.375 12.03125 44.71875 \r\nQ 8.5 49.078125 8.5 55.328125 \r\nQ 8.5 64.0625 14.71875 69.140625 \r\nQ 20.953125 74.21875 31.78125 74.21875 \r\nQ 42.671875 74.21875 48.875 69.140625 \r\nQ 55.078125 64.0625 55.078125 55.328125 \r\nQ 55.078125 49.078125 51.53125 44.71875 \r\nQ 48 40.375 41.703125 38.8125 \r\nQ 48.828125 37.15625 52.796875 32.3125 \r\nQ 56.78125 27.484375 56.78125 20.515625 \r\nQ 56.78125 9.90625 50.3125 4.234375 \r\nQ 43.84375 -1.421875 31.78125 -1.421875 \r\nQ 19.734375 -1.421875 13.25 4.234375 \r\nQ 6.78125 9.90625 6.78125 20.515625 \r\nQ 6.78125 27.484375 10.78125 32.3125 \r\nQ 14.796875 37.15625 21.921875 38.8125 \r\nz\r\nM 18.3125 54.390625 \r\nQ 18.3125 48.734375 21.84375 45.5625 \r\nQ 25.390625 42.390625 31.78125 42.390625 \r\nQ 38.140625 42.390625 41.71875 45.5625 \r\nQ 45.3125 48.734375 45.3125 54.390625 \r\nQ 45.3125 60.0625 41.71875 63.234375 \r\nQ 38.140625 66.40625 31.78125 66.40625 \r\nQ 25.390625 66.40625 21.84375 63.234375 \r\nQ 18.3125 60.0625 18.3125 54.390625 \r\nz\r\n\" id=\"DejaVuSans-56\"/>\r\n      </defs>\r\n      <g transform=\"translate(540.621457 456.678437)scale(0.1 -0.1)\">\r\n       <use xlink:href=\"#DejaVuSans-56\"/>\r\n      </g>\r\n     </g>\r\n    </g>\r\n    <g id=\"xtick_6\">\r\n     <g id=\"line2d_11\">\r\n      <path clip-path=\"url(#p1cdfa5a47c)\" d=\"M 667.859992 442.08 \r\nL 667.859992 7.2 \r\n\" style=\"fill:none;stroke:#b0b0b0;stroke-linecap:square;stroke-width:0.8;\"/>\r\n     </g>\r\n     <g id=\"line2d_12\">\r\n      <g>\r\n       <use style=\"stroke:#000000;stroke-width:0.8;\" x=\"667.859992\" xlink:href=\"#me9918ee3c5\" y=\"442.08\"/>\r\n      </g>\r\n     </g>\r\n     <g id=\"text_6\">\r\n      <!-- 10 -->\r\n      <defs>\r\n       <path d=\"M 12.40625 8.296875 \r\nL 28.515625 8.296875 \r\nL 28.515625 63.921875 \r\nL 10.984375 60.40625 \r\nL 10.984375 69.390625 \r\nL 28.421875 72.90625 \r\nL 38.28125 72.90625 \r\nL 38.28125 8.296875 \r\nL 54.390625 8.296875 \r\nL 54.390625 0 \r\nL 12.40625 0 \r\nz\r\n\" id=\"DejaVuSans-49\"/>\r\n      </defs>\r\n      <g transform=\"translate(661.497492 456.678437)scale(0.1 -0.1)\">\r\n       <use xlink:href=\"#DejaVuSans-49\"/>\r\n       <use x=\"63.623047\" xlink:href=\"#DejaVuSans-48\"/>\r\n      </g>\r\n     </g>\r\n    </g>\r\n   </g>\r\n   <g id=\"matplotlib.axis_2\">\r\n    <g id=\"ytick_1\">\r\n     <g id=\"line2d_13\">\r\n      <path clip-path=\"url(#p1cdfa5a47c)\" d=\"M 20.5625 434.55634 \r\nL 690.1625 434.55634 \r\n\" style=\"fill:none;stroke:#b0b0b0;stroke-linecap:square;stroke-width:0.8;\"/>\r\n     </g>\r\n     <g id=\"line2d_14\">\r\n      <defs>\r\n       <path d=\"M 0 0 \r\nL -3.5 0 \r\n\" id=\"mac1ec68197\" style=\"stroke:#000000;stroke-width:0.8;\"/>\r\n      </defs>\r\n      <g>\r\n       <use style=\"stroke:#000000;stroke-width:0.8;\" x=\"20.5625\" xlink:href=\"#mac1ec68197\" y=\"434.55634\"/>\r\n      </g>\r\n     </g>\r\n     <g id=\"text_7\">\r\n      <!-- 0 -->\r\n      <g transform=\"translate(7.2 438.355559)scale(0.1 -0.1)\">\r\n       <use xlink:href=\"#DejaVuSans-48\"/>\r\n      </g>\r\n     </g>\r\n    </g>\r\n    <g id=\"ytick_2\">\r\n     <g id=\"line2d_15\">\r\n      <path clip-path=\"url(#p1cdfa5a47c)\" d=\"M 20.5625 384.575265 \r\nL 690.1625 384.575265 \r\n\" style=\"fill:none;stroke:#b0b0b0;stroke-linecap:square;stroke-width:0.8;\"/>\r\n     </g>\r\n     <g id=\"line2d_16\">\r\n      <g>\r\n       <use style=\"stroke:#000000;stroke-width:0.8;\" x=\"20.5625\" xlink:href=\"#mac1ec68197\" y=\"384.575265\"/>\r\n      </g>\r\n     </g>\r\n     <g id=\"text_8\">\r\n      <!-- 1 -->\r\n      <g transform=\"translate(7.2 388.374484)scale(0.1 -0.1)\">\r\n       <use xlink:href=\"#DejaVuSans-49\"/>\r\n      </g>\r\n     </g>\r\n    </g>\r\n    <g id=\"ytick_3\">\r\n     <g id=\"line2d_17\">\r\n      <path clip-path=\"url(#p1cdfa5a47c)\" d=\"M 20.5625 334.594191 \r\nL 690.1625 334.594191 \r\n\" style=\"fill:none;stroke:#b0b0b0;stroke-linecap:square;stroke-width:0.8;\"/>\r\n     </g>\r\n     <g id=\"line2d_18\">\r\n      <g>\r\n       <use style=\"stroke:#000000;stroke-width:0.8;\" x=\"20.5625\" xlink:href=\"#mac1ec68197\" y=\"334.594191\"/>\r\n      </g>\r\n     </g>\r\n     <g id=\"text_9\">\r\n      <!-- 2 -->\r\n      <g transform=\"translate(7.2 338.393409)scale(0.1 -0.1)\">\r\n       <use xlink:href=\"#DejaVuSans-50\"/>\r\n      </g>\r\n     </g>\r\n    </g>\r\n    <g id=\"ytick_4\">\r\n     <g id=\"line2d_19\">\r\n      <path clip-path=\"url(#p1cdfa5a47c)\" d=\"M 20.5625 284.613116 \r\nL 690.1625 284.613116 \r\n\" style=\"fill:none;stroke:#b0b0b0;stroke-linecap:square;stroke-width:0.8;\"/>\r\n     </g>\r\n     <g id=\"line2d_20\">\r\n      <g>\r\n       <use style=\"stroke:#000000;stroke-width:0.8;\" x=\"20.5625\" xlink:href=\"#mac1ec68197\" y=\"284.613116\"/>\r\n      </g>\r\n     </g>\r\n     <g id=\"text_10\">\r\n      <!-- 3 -->\r\n      <defs>\r\n       <path d=\"M 40.578125 39.3125 \r\nQ 47.65625 37.796875 51.625 33 \r\nQ 55.609375 28.21875 55.609375 21.1875 \r\nQ 55.609375 10.40625 48.1875 4.484375 \r\nQ 40.765625 -1.421875 27.09375 -1.421875 \r\nQ 22.515625 -1.421875 17.65625 -0.515625 \r\nQ 12.796875 0.390625 7.625 2.203125 \r\nL 7.625 11.71875 \r\nQ 11.71875 9.328125 16.59375 8.109375 \r\nQ 21.484375 6.890625 26.8125 6.890625 \r\nQ 36.078125 6.890625 40.9375 10.546875 \r\nQ 45.796875 14.203125 45.796875 21.1875 \r\nQ 45.796875 27.640625 41.28125 31.265625 \r\nQ 36.765625 34.90625 28.71875 34.90625 \r\nL 20.21875 34.90625 \r\nL 20.21875 43.015625 \r\nL 29.109375 43.015625 \r\nQ 36.375 43.015625 40.234375 45.921875 \r\nQ 44.09375 48.828125 44.09375 54.296875 \r\nQ 44.09375 59.90625 40.109375 62.90625 \r\nQ 36.140625 65.921875 28.71875 65.921875 \r\nQ 24.65625 65.921875 20.015625 65.03125 \r\nQ 15.375 64.15625 9.8125 62.3125 \r\nL 9.8125 71.09375 \r\nQ 15.4375 72.65625 20.34375 73.4375 \r\nQ 25.25 74.21875 29.59375 74.21875 \r\nQ 40.828125 74.21875 47.359375 69.109375 \r\nQ 53.90625 64.015625 53.90625 55.328125 \r\nQ 53.90625 49.265625 50.4375 45.09375 \r\nQ 46.96875 40.921875 40.578125 39.3125 \r\nz\r\n\" id=\"DejaVuSans-51\"/>\r\n      </defs>\r\n      <g transform=\"translate(7.2 288.412335)scale(0.1 -0.1)\">\r\n       <use xlink:href=\"#DejaVuSans-51\"/>\r\n      </g>\r\n     </g>\r\n    </g>\r\n    <g id=\"ytick_5\">\r\n     <g id=\"line2d_21\">\r\n      <path clip-path=\"url(#p1cdfa5a47c)\" d=\"M 20.5625 234.632041 \r\nL 690.1625 234.632041 \r\n\" style=\"fill:none;stroke:#b0b0b0;stroke-linecap:square;stroke-width:0.8;\"/>\r\n     </g>\r\n     <g id=\"line2d_22\">\r\n      <g>\r\n       <use style=\"stroke:#000000;stroke-width:0.8;\" x=\"20.5625\" xlink:href=\"#mac1ec68197\" y=\"234.632041\"/>\r\n      </g>\r\n     </g>\r\n     <g id=\"text_11\">\r\n      <!-- 4 -->\r\n      <g transform=\"translate(7.2 238.43126)scale(0.1 -0.1)\">\r\n       <use xlink:href=\"#DejaVuSans-52\"/>\r\n      </g>\r\n     </g>\r\n    </g>\r\n    <g id=\"ytick_6\">\r\n     <g id=\"line2d_23\">\r\n      <path clip-path=\"url(#p1cdfa5a47c)\" d=\"M 20.5625 184.650966 \r\nL 690.1625 184.650966 \r\n\" style=\"fill:none;stroke:#b0b0b0;stroke-linecap:square;stroke-width:0.8;\"/>\r\n     </g>\r\n     <g id=\"line2d_24\">\r\n      <g>\r\n       <use style=\"stroke:#000000;stroke-width:0.8;\" x=\"20.5625\" xlink:href=\"#mac1ec68197\" y=\"184.650966\"/>\r\n      </g>\r\n     </g>\r\n     <g id=\"text_12\">\r\n      <!-- 5 -->\r\n      <defs>\r\n       <path d=\"M 10.796875 72.90625 \r\nL 49.515625 72.90625 \r\nL 49.515625 64.59375 \r\nL 19.828125 64.59375 \r\nL 19.828125 46.734375 \r\nQ 21.96875 47.46875 24.109375 47.828125 \r\nQ 26.265625 48.1875 28.421875 48.1875 \r\nQ 40.625 48.1875 47.75 41.5 \r\nQ 54.890625 34.8125 54.890625 23.390625 \r\nQ 54.890625 11.625 47.5625 5.09375 \r\nQ 40.234375 -1.421875 26.90625 -1.421875 \r\nQ 22.3125 -1.421875 17.546875 -0.640625 \r\nQ 12.796875 0.140625 7.71875 1.703125 \r\nL 7.71875 11.625 \r\nQ 12.109375 9.234375 16.796875 8.0625 \r\nQ 21.484375 6.890625 26.703125 6.890625 \r\nQ 35.15625 6.890625 40.078125 11.328125 \r\nQ 45.015625 15.765625 45.015625 23.390625 \r\nQ 45.015625 31 40.078125 35.4375 \r\nQ 35.15625 39.890625 26.703125 39.890625 \r\nQ 22.75 39.890625 18.8125 39.015625 \r\nQ 14.890625 38.140625 10.796875 36.28125 \r\nz\r\n\" id=\"DejaVuSans-53\"/>\r\n      </defs>\r\n      <g transform=\"translate(7.2 188.450185)scale(0.1 -0.1)\">\r\n       <use xlink:href=\"#DejaVuSans-53\"/>\r\n      </g>\r\n     </g>\r\n    </g>\r\n    <g id=\"ytick_7\">\r\n     <g id=\"line2d_25\">\r\n      <path clip-path=\"url(#p1cdfa5a47c)\" d=\"M 20.5625 134.669891 \r\nL 690.1625 134.669891 \r\n\" style=\"fill:none;stroke:#b0b0b0;stroke-linecap:square;stroke-width:0.8;\"/>\r\n     </g>\r\n     <g id=\"line2d_26\">\r\n      <g>\r\n       <use style=\"stroke:#000000;stroke-width:0.8;\" x=\"20.5625\" xlink:href=\"#mac1ec68197\" y=\"134.669891\"/>\r\n      </g>\r\n     </g>\r\n     <g id=\"text_13\">\r\n      <!-- 6 -->\r\n      <g transform=\"translate(7.2 138.46911)scale(0.1 -0.1)\">\r\n       <use xlink:href=\"#DejaVuSans-54\"/>\r\n      </g>\r\n     </g>\r\n    </g>\r\n    <g id=\"ytick_8\">\r\n     <g id=\"line2d_27\">\r\n      <path clip-path=\"url(#p1cdfa5a47c)\" d=\"M 20.5625 84.688817 \r\nL 690.1625 84.688817 \r\n\" style=\"fill:none;stroke:#b0b0b0;stroke-linecap:square;stroke-width:0.8;\"/>\r\n     </g>\r\n     <g id=\"line2d_28\">\r\n      <g>\r\n       <use style=\"stroke:#000000;stroke-width:0.8;\" x=\"20.5625\" xlink:href=\"#mac1ec68197\" y=\"84.688817\"/>\r\n      </g>\r\n     </g>\r\n     <g id=\"text_14\">\r\n      <!-- 7 -->\r\n      <defs>\r\n       <path d=\"M 8.203125 72.90625 \r\nL 55.078125 72.90625 \r\nL 55.078125 68.703125 \r\nL 28.609375 0 \r\nL 18.3125 0 \r\nL 43.21875 64.59375 \r\nL 8.203125 64.59375 \r\nz\r\n\" id=\"DejaVuSans-55\"/>\r\n      </defs>\r\n      <g transform=\"translate(7.2 88.488035)scale(0.1 -0.1)\">\r\n       <use xlink:href=\"#DejaVuSans-55\"/>\r\n      </g>\r\n     </g>\r\n    </g>\r\n    <g id=\"ytick_9\">\r\n     <g id=\"line2d_29\">\r\n      <path clip-path=\"url(#p1cdfa5a47c)\" d=\"M 20.5625 34.707742 \r\nL 690.1625 34.707742 \r\n\" style=\"fill:none;stroke:#b0b0b0;stroke-linecap:square;stroke-width:0.8;\"/>\r\n     </g>\r\n     <g id=\"line2d_30\">\r\n      <g>\r\n       <use style=\"stroke:#000000;stroke-width:0.8;\" x=\"20.5625\" xlink:href=\"#mac1ec68197\" y=\"34.707742\"/>\r\n      </g>\r\n     </g>\r\n     <g id=\"text_15\">\r\n      <!-- 8 -->\r\n      <g transform=\"translate(7.2 38.50696)scale(0.1 -0.1)\">\r\n       <use xlink:href=\"#DejaVuSans-56\"/>\r\n      </g>\r\n     </g>\r\n    </g>\r\n   </g>\r\n   <g id=\"line2d_31\">\r\n    <defs>\r\n     <path d=\"M 0 5 \r\nC 1.326016 5 2.597899 4.473168 3.535534 3.535534 \r\nC 4.473168 2.597899 5 1.326016 5 0 \r\nC 5 -1.326016 4.473168 -2.597899 3.535534 -3.535534 \r\nC 2.597899 -4.473168 1.326016 -5 0 -5 \r\nC -1.326016 -5 -2.597899 -4.473168 -3.535534 -3.535534 \r\nC -4.473168 -2.597899 -5 -1.326016 -5 0 \r\nC -5 1.326016 -4.473168 2.597899 -3.535534 3.535534 \r\nC -2.597899 4.473168 -1.326016 5 0 5 \r\nz\r\n\" id=\"mde22bdb61e\" style=\"stroke:#1f77b4;\"/>\r\n    </defs>\r\n    <g clip-path=\"url(#p1cdfa5a47c)\">\r\n     <use style=\"fill:#1f77b4;stroke:#1f77b4;\" x=\"279.89572\" xlink:href=\"#mde22bdb61e\" y=\"121.062872\"/>\r\n     <use style=\"fill:#1f77b4;stroke:#1f77b4;\" x=\"637.288745\" xlink:href=\"#mde22bdb61e\" y=\"327.690558\"/>\r\n     <use style=\"fill:#1f77b4;stroke:#1f77b4;\" x=\"501.619473\" xlink:href=\"#mde22bdb61e\" y=\"158.893869\"/>\r\n     <use style=\"fill:#1f77b4;stroke:#1f77b4;\" x=\"418.913299\" xlink:href=\"#mde22bdb61e\" y=\"218.749997\"/>\r\n     <use style=\"fill:#1f77b4;stroke:#1f77b4;\" x=\"144.349814\" xlink:href=\"#mde22bdb61e\" y=\"238.937181\"/>\r\n     <use style=\"fill:#1f77b4;stroke:#1f77b4;\" x=\"144.334852\" xlink:href=\"#mde22bdb61e\" y=\"210.125462\"/>\r\n     <use style=\"fill:#1f77b4;stroke:#1f77b4;\" x=\"83.602045\" xlink:href=\"#mde22bdb61e\" y=\"231.028797\"/>\r\n     <use style=\"fill:#1f77b4;stroke:#1f77b4;\" x=\"584.850872\" xlink:href=\"#mde22bdb61e\" y=\"269.617275\"/>\r\n     <use style=\"fill:#1f77b4;stroke:#1f77b4;\" x=\"420.437049\" xlink:href=\"#mde22bdb61e\" y=\"160.309109\"/>\r\n     <use style=\"fill:#1f77b4;stroke:#1f77b4;\" x=\"486.781375\" xlink:href=\"#mde22bdb61e\" y=\"178.035521\"/>\r\n     <use style=\"fill:#1f77b4;stroke:#1f77b4;\" x=\"60.341852\" xlink:href=\"#mde22bdb61e\" y=\"293.678804\"/>\r\n     <use style=\"fill:#1f77b4;stroke:#1f77b4;\" x=\"649.195481\" xlink:href=\"#mde22bdb61e\" y=\"313.97971\"/>\r\n     <use style=\"fill:#1f77b4;stroke:#1f77b4;\" x=\"563.926437\" xlink:href=\"#mde22bdb61e\" y=\"246.633616\"/>\r\n     <use style=\"fill:#1f77b4;stroke:#1f77b4;\" x=\"179.284637\" xlink:href=\"#mde22bdb61e\" y=\"166.743162\"/>\r\n     <use style=\"fill:#1f77b4;stroke:#1f77b4;\" x=\"160.357128\" xlink:href=\"#mde22bdb61e\" y=\"206.024347\"/>\r\n     <use style=\"fill:#1f77b4;stroke:#1f77b4;\" x=\"161.336897\" xlink:href=\"#mde22bdb61e\" y=\"161.460202\"/>\r\n     <use style=\"fill:#1f77b4;stroke:#1f77b4;\" x=\"236.290902\" xlink:href=\"#mde22bdb61e\" y=\"183.075317\"/>\r\n     <use style=\"fill:#1f77b4;stroke:#1f77b4;\" x=\"373.072859\" xlink:href=\"#mde22bdb61e\" y=\"126.668909\"/>\r\n     <use style=\"fill:#1f77b4;stroke:#1f77b4;\" x=\"315.5032\" xlink:href=\"#mde22bdb61e\" y=\"133.907068\"/>\r\n     <use style=\"fill:#1f77b4;stroke:#1f77b4;\" x=\"228.219051\" xlink:href=\"#mde22bdb61e\" y=\"226.396179\"/>\r\n     <use style=\"fill:#1f77b4;stroke:#1f77b4;\" x=\"427.097612\" xlink:href=\"#mde22bdb61e\" y=\"107.385279\"/>\r\n     <use style=\"fill:#1f77b4;stroke:#1f77b4;\" x=\"134.099717\" xlink:href=\"#mde22bdb61e\" y=\"226.547015\"/>\r\n     <use style=\"fill:#1f77b4;stroke:#1f77b4;\" x=\"228.786928\" xlink:href=\"#mde22bdb61e\" y=\"152.611272\"/>\r\n     <use style=\"fill:#1f77b4;stroke:#1f77b4;\" x=\"274.822846\" xlink:href=\"#mde22bdb61e\" y=\"139.256668\"/>\r\n     <use style=\"fill:#1f77b4;stroke:#1f77b4;\" x=\"330.467588\" xlink:href=\"#mde22bdb61e\" y=\"182.350221\"/>\r\n     <use style=\"fill:#1f77b4;stroke:#1f77b4;\" x=\"534.607557\" xlink:href=\"#mde22bdb61e\" y=\"211.998206\"/>\r\n     <use style=\"fill:#1f77b4;stroke:#1f77b4;\" x=\"171.428505\" xlink:href=\"#mde22bdb61e\" y=\"216.970292\"/>\r\n     <use style=\"fill:#1f77b4;stroke:#1f77b4;\" x=\"366.546209\" xlink:href=\"#mde22bdb61e\" y=\"149.980577\"/>\r\n     <use style=\"fill:#1f77b4;stroke:#1f77b4;\" x=\"415.040283\" xlink:href=\"#mde22bdb61e\" y=\"126.277807\"/>\r\n     <use style=\"fill:#1f77b4;stroke:#1f77b4;\" x=\"76.38613\" xlink:href=\"#mde22bdb61e\" y=\"295.113825\"/>\r\n     <use style=\"fill:#1f77b4;stroke:#1f77b4;\" x=\"424.425392\" xlink:href=\"#mde22bdb61e\" y=\"26.967273\"/>\r\n     <use style=\"fill:#1f77b4;stroke:#1f77b4;\" x=\"153.347368\" xlink:href=\"#mde22bdb61e\" y=\"209.467032\"/>\r\n     <use style=\"fill:#1f77b4;stroke:#1f77b4;\" x=\"87.924189\" xlink:href=\"#mde22bdb61e\" y=\"285.91522\"/>\r\n     <use style=\"fill:#1f77b4;stroke:#1f77b4;\" x=\"636.154384\" xlink:href=\"#mde22bdb61e\" y=\"314.822199\"/>\r\n     <use style=\"fill:#1f77b4;stroke:#1f77b4;\" x=\"646.542008\" xlink:href=\"#mde22bdb61e\" y=\"422.312727\"/>\r\n     <use style=\"fill:#1f77b4;stroke:#1f77b4;\" x=\"549.011468\" xlink:href=\"#mde22bdb61e\" y=\"206.077471\"/>\r\n     <use style=\"fill:#1f77b4;stroke:#1f77b4;\" x=\"236.521354\" xlink:href=\"#mde22bdb61e\" y=\"144.830313\"/>\r\n     <use style=\"fill:#1f77b4;stroke:#1f77b4;\" x=\"108.158256\" xlink:href=\"#mde22bdb61e\" y=\"148.370326\"/>\r\n     <use style=\"fill:#1f77b4;stroke:#1f77b4;\" x=\"471.994025\" xlink:href=\"#mde22bdb61e\" y=\"153.222723\"/>\r\n     <use style=\"fill:#1f77b4;stroke:#1f77b4;\" x=\"320.594185\" xlink:href=\"#mde22bdb61e\" y=\"98.188062\"/>\r\n     <use style=\"fill:#1f77b4;stroke:#1f77b4;\" x=\"123.272229\" xlink:href=\"#mde22bdb61e\" y=\"254.21531\"/>\r\n     <use style=\"fill:#1f77b4;stroke:#1f77b4;\" x=\"354.725083\" xlink:href=\"#mde22bdb61e\" y=\"168.114392\"/>\r\n     <use style=\"fill:#1f77b4;stroke:#1f77b4;\" x=\"68.904302\" xlink:href=\"#mde22bdb61e\" y=\"269.271833\"/>\r\n     <use style=\"fill:#1f77b4;stroke:#1f77b4;\" x=\"611.612668\" xlink:href=\"#mde22bdb61e\" y=\"239.576709\"/>\r\n     <use style=\"fill:#1f77b4;stroke:#1f77b4;\" x=\"208.091278\" xlink:href=\"#mde22bdb61e\" y=\"128.3078\"/>\r\n     <use style=\"fill:#1f77b4;stroke:#1f77b4;\" x=\"458.527147\" xlink:href=\"#mde22bdb61e\" y=\"181.535012\"/>\r\n     <use style=\"fill:#1f77b4;stroke:#1f77b4;\" x=\"240.923718\" xlink:href=\"#mde22bdb61e\" y=\"75.005486\"/>\r\n     <use style=\"fill:#1f77b4;stroke:#1f77b4;\" x=\"370.164702\" xlink:href=\"#mde22bdb61e\" y=\"180.14795\"/>\r\n     <use style=\"fill:#1f77b4;stroke:#1f77b4;\" x=\"386.690533\" xlink:href=\"#mde22bdb61e\" y=\"82.52863\"/>\r\n     <use style=\"fill:#1f77b4;stroke:#1f77b4;\" x=\"162.236278\" xlink:href=\"#mde22bdb61e\" y=\"99.47715\"/>\r\n     <use style=\"fill:#1f77b4;stroke:#1f77b4;\" x=\"648.993749\" xlink:href=\"#mde22bdb61e\" y=\"379.613683\"/>\r\n     <use style=\"fill:#1f77b4;stroke:#1f77b4;\" x=\"528.377935\" xlink:href=\"#mde22bdb61e\" y=\"213.652942\"/>\r\n     <use style=\"fill:#1f77b4;stroke:#1f77b4;\" x=\"630.332006\" xlink:href=\"#mde22bdb61e\" y=\"297.78488\"/>\r\n     <use style=\"fill:#1f77b4;stroke:#1f77b4;\" x=\"602.622825\" xlink:href=\"#mde22bdb61e\" y=\"290.673241\"/>\r\n     <use style=\"fill:#1f77b4;stroke:#1f77b4;\" x=\"418.442808\" xlink:href=\"#mde22bdb61e\" y=\"196.763957\"/>\r\n     <use style=\"fill:#1f77b4;stroke:#1f77b4;\" x=\"619.39964\" xlink:href=\"#mde22bdb61e\" y=\"284.163008\"/>\r\n     <use style=\"fill:#1f77b4;stroke:#1f77b4;\" x=\"102.464267\" xlink:href=\"#mde22bdb61e\" y=\"332.048761\"/>\r\n     <use style=\"fill:#1f77b4;stroke:#1f77b4;\" x=\"169.139078\" xlink:href=\"#mde22bdb61e\" y=\"178.400131\"/>\r\n     <use style=\"fill:#1f77b4;stroke:#1f77b4;\" x=\"75.627443\" xlink:href=\"#mde22bdb61e\" y=\"362.373103\"/>\r\n     <use style=\"fill:#1f77b4;stroke:#1f77b4;\" x=\"249.371556\" xlink:href=\"#mde22bdb61e\" y=\"62.709912\"/>\r\n     <use style=\"fill:#1f77b4;stroke:#1f77b4;\" x=\"288.664815\" xlink:href=\"#mde22bdb61e\" y=\"161.21525\"/>\r\n     <use style=\"fill:#1f77b4;stroke:#1f77b4;\" x=\"215.887689\" xlink:href=\"#mde22bdb61e\" y=\"178.037811\"/>\r\n     <use style=\"fill:#1f77b4;stroke:#1f77b4;\" x=\"561.628194\" xlink:href=\"#mde22bdb61e\" y=\"177.046335\"/>\r\n     <use style=\"fill:#1f77b4;stroke:#1f77b4;\" x=\"268.862814\" xlink:href=\"#mde22bdb61e\" y=\"191.711118\"/>\r\n     <use style=\"fill:#1f77b4;stroke:#1f77b4;\" x=\"221.833431\" xlink:href=\"#mde22bdb61e\" y=\"146.282187\"/>\r\n     <use style=\"fill:#1f77b4;stroke:#1f77b4;\" x=\"384.200581\" xlink:href=\"#mde22bdb61e\" y=\"46.16922\"/>\r\n     <use style=\"fill:#1f77b4;stroke:#1f77b4;\" x=\"134.986953\" xlink:href=\"#mde22bdb61e\" y=\"318.909703\"/>\r\n     <use style=\"fill:#1f77b4;stroke:#1f77b4;\" x=\"545.165464\" xlink:href=\"#mde22bdb61e\" y=\"191.739604\"/>\r\n     <use style=\"fill:#1f77b4;stroke:#1f77b4;\" x=\"93.816321\" xlink:href=\"#mde22bdb61e\" y=\"277.628775\"/>\r\n     <use style=\"fill:#1f77b4;stroke:#1f77b4;\" x=\"659.726136\" xlink:href=\"#mde22bdb61e\" y=\"307.572168\"/>\r\n     <use style=\"fill:#1f77b4;stroke:#1f77b4;\" x=\"526.586514\" xlink:href=\"#mde22bdb61e\" y=\"245.592641\"/>\r\n     <use style=\"fill:#1f77b4;stroke:#1f77b4;\" x=\"170.834208\" xlink:href=\"#mde22bdb61e\" y=\"266.415078\"/>\r\n     <use style=\"fill:#1f77b4;stroke:#1f77b4;\" x=\"50.998864\" xlink:href=\"#mde22bdb61e\" y=\"328.007983\"/>\r\n     <use style=\"fill:#1f77b4;stroke:#1f77b4;\" x=\"553.393221\" xlink:href=\"#mde22bdb61e\" y=\"194.313986\"/>\r\n     <use style=\"fill:#1f77b4;stroke:#1f77b4;\" x=\"486.027582\" xlink:href=\"#mde22bdb61e\" y=\"139.933217\"/>\r\n     <use style=\"fill:#1f77b4;stroke:#1f77b4;\" x=\"499.766817\" xlink:href=\"#mde22bdb61e\" y=\"144.787933\"/>\r\n     <use style=\"fill:#1f77b4;stroke:#1f77b4;\" x=\"525.982093\" xlink:href=\"#mde22bdb61e\" y=\"217.227468\"/>\r\n     <use style=\"fill:#1f77b4;stroke:#1f77b4;\" x=\"93.502461\" xlink:href=\"#mde22bdb61e\" y=\"279.440348\"/>\r\n     <use style=\"fill:#1f77b4;stroke:#1f77b4;\" x=\"269.924994\" xlink:href=\"#mde22bdb61e\" y=\"115.055645\"/>\r\n     <use style=\"fill:#1f77b4;stroke:#1f77b4;\" x=\"119.445574\" xlink:href=\"#mde22bdb61e\" y=\"292.884134\"/>\r\n     <use style=\"fill:#1f77b4;stroke:#1f77b4;\" x=\"582.944905\" xlink:href=\"#mde22bdb61e\" y=\"148.220133\"/>\r\n     <use style=\"fill:#1f77b4;stroke:#1f77b4;\" x=\"434.196934\" xlink:href=\"#mde22bdb61e\" y=\"101.193349\"/>\r\n     <use style=\"fill:#1f77b4;stroke:#1f77b4;\" x=\"252.825121\" xlink:href=\"#mde22bdb61e\" y=\"197.806638\"/>\r\n     <use style=\"fill:#1f77b4;stroke:#1f77b4;\" x=\"86.997951\" xlink:href=\"#mde22bdb61e\" y=\"267.273315\"/>\r\n     <use style=\"fill:#1f77b4;stroke:#1f77b4;\" x=\"240.471681\" xlink:href=\"#mde22bdb61e\" y=\"194.109151\"/>\r\n     <use style=\"fill:#1f77b4;stroke:#1f77b4;\" x=\"249.280369\" xlink:href=\"#mde22bdb61e\" y=\"100.889323\"/>\r\n     <use style=\"fill:#1f77b4;stroke:#1f77b4;\" x=\"500.138375\" xlink:href=\"#mde22bdb61e\" y=\"104.470544\"/>\r\n     <use style=\"fill:#1f77b4;stroke:#1f77b4;\" x=\"443.041812\" xlink:href=\"#mde22bdb61e\" y=\"169.612834\"/>\r\n     <use style=\"fill:#1f77b4;stroke:#1f77b4;\" x=\"597.899587\" xlink:href=\"#mde22bdb61e\" y=\"211.405737\"/>\r\n     <use style=\"fill:#1f77b4;stroke:#1f77b4;\" x=\"340.482076\" xlink:href=\"#mde22bdb61e\" y=\"89.819838\"/>\r\n     <use style=\"fill:#1f77b4;stroke:#1f77b4;\" x=\"121.756256\" xlink:href=\"#mde22bdb61e\" y=\"213.245669\"/>\r\n     <use style=\"fill:#1f77b4;stroke:#1f77b4;\" x=\"489.989627\" xlink:href=\"#mde22bdb61e\" y=\"60.331729\"/>\r\n     <use style=\"fill:#1f77b4;stroke:#1f77b4;\" x=\"519.478205\" xlink:href=\"#mde22bdb61e\" y=\"189.927216\"/>\r\n     <use style=\"fill:#1f77b4;stroke:#1f77b4;\" x=\"395.726194\" xlink:href=\"#mde22bdb61e\" y=\"151.105371\"/>\r\n     <use style=\"fill:#1f77b4;stroke:#1f77b4;\" x=\"525.794043\" xlink:href=\"#mde22bdb61e\" y=\"227.533663\"/>\r\n     <use style=\"fill:#1f77b4;stroke:#1f77b4;\" x=\"353.868273\" xlink:href=\"#mde22bdb61e\" y=\"150.492909\"/>\r\n     <use style=\"fill:#1f77b4;stroke:#1f77b4;\" x=\"371.817646\" xlink:href=\"#mde22bdb61e\" y=\"114.049566\"/>\r\n     <use style=\"fill:#1f77b4;stroke:#1f77b4;\" x=\"312.771458\" xlink:href=\"#mde22bdb61e\" y=\"97.876528\"/>\r\n     <use style=\"fill:#1f77b4;stroke:#1f77b4;\" x=\"63.340709\" xlink:href=\"#mde22bdb61e\" y=\"320.991806\"/>\r\n     <use style=\"fill:#1f77b4;stroke:#1f77b4;\" x=\"114.497157\" xlink:href=\"#mde22bdb61e\" y=\"222.026785\"/>\r\n    </g>\r\n   </g>\r\n   <g id=\"patch_3\">\r\n    <path d=\"M 20.5625 442.08 \r\nL 20.5625 7.2 \r\n\" style=\"fill:none;stroke:#000000;stroke-linecap:square;stroke-linejoin:miter;stroke-width:0.8;\"/>\r\n   </g>\r\n   <g id=\"patch_4\">\r\n    <path d=\"M 690.1625 442.08 \r\nL 690.1625 7.2 \r\n\" style=\"fill:none;stroke:#000000;stroke-linecap:square;stroke-linejoin:miter;stroke-width:0.8;\"/>\r\n   </g>\r\n   <g id=\"patch_5\">\r\n    <path d=\"M 20.5625 442.08 \r\nL 690.1625 442.08 \r\n\" style=\"fill:none;stroke:#000000;stroke-linecap:square;stroke-linejoin:miter;stroke-width:0.8;\"/>\r\n   </g>\r\n   <g id=\"patch_6\">\r\n    <path d=\"M 20.5625 7.2 \r\nL 690.1625 7.2 \r\n\" style=\"fill:none;stroke:#000000;stroke-linecap:square;stroke-linejoin:miter;stroke-width:0.8;\"/>\r\n   </g>\r\n  </g>\r\n </g>\r\n <defs>\r\n  <clipPath id=\"p1cdfa5a47c\">\r\n   <rect height=\"434.88\" width=\"669.6\" x=\"20.5625\" y=\"7.2\"/>\r\n  </clipPath>\r\n </defs>\r\n</svg>\r\n",
      "image/png": "[encoded data removed]"
     },
     "metadata": {}
    }
   ],
   "source": [
    "import matplotlib.pyplot as plt\n",
    "fig,ax=plt.subplots(figsize=(12,8),facecolor='w')\n",
    "plt.plot(x2,y2,linestyle='',marker='o',markersize=10)\n",
    "plt.show()"
   ]
  },
  {
   "cell_type": "markdown",
   "metadata": {},
   "source": [
    "## Exact solution for a univariate regression\n",
    "\n",
    "Our model is $Q(\\mathbf{x},\\mathbf{w})$ is $w_0+w_1x_i$. We would like to minimize the MSE:\n",
    "$$\n",
    "\\text{Min. } \\displaystyle{\\left(\\sum_i (y_i - Q(x_i,\\mathbf{w}))^2\\right)} \\; \\text{  where  } \\; Q(x_i,\\mathbf{w}) = w_0 + w_1x_i\n",
    "$$\n",
    "\n",
    "The exact solution for is available as:\n",
    "\n",
    "$$\n",
    "w_1 = \\displaystyle{\\frac{\\sum(x_i-\\langle x\\rangle)(y_i-\\langle y\\rangle)}{\\sum(x_i-\\langle x\\rangle)^2}} \\;\\text{ and } \\; w_0 = \\langle y\\rangle - w_1\\cdot\\langle x\\rangle\n",
    "$$\n",
    "\n",
    "### Exercise 1: implement the exact solution to solve for \n",
    "Let's implement and see how it works"
   ]
  },
  {
   "cell_type": "code",
   "execution_count": 19,
   "metadata": {},
   "outputs": [
    {
     "output_type": "stream",
     "name": "stdout",
     "text": [
      "Analytical solution for w0 1.6699474504417484 and w1 1.973095351340853\n"
     ]
    }
   ],
   "source": [
    "w0,w1=0,0\n",
    "### Your code below ###\n",
    "w1 = np.sum((x-np.mean(x))*(y - np.mean(y))) / np.sum((x - np.mean(x))**2)\n",
    "w0 = np.mean(y) - w1 * np.mean(x)\n",
    "#######################\n",
    "print('Analytical solution for w0',w0,'and w1',w1)"
   ]
  },
  {
   "cell_type": "markdown",
   "metadata": {},
   "source": [
    "## Gradient descent\n",
    "\n",
    "Another approach to the solution is to use a _Gradient Descent_ technique as we covered in the lecture. In this case, we compute the error (i.e. MSE) and update the weights according to the equation:\n",
    "$$\n",
    "w_{\\text{new}} = w - \\lambda\\nabla_{\\mathbf{w}} \\mathcal{L}\n",
    "$$\n",
    "First of all, let's use a bias trick. Our data = input feature vector $\\mathbf{x}$ has only 1 feature. If we expand to $\\mathbf{X}$ and add an identity as the second feature, we can write\n",
    "$$\n",
    "Q(\\mathbf{x},\\mathbf{w}) = \\mathbf{X}\\cdot\\mathbf{w}\n",
    "$$\n",
    "A gradient for a linear regression is also covered in the lecture:\n",
    "$$\n",
    "\\nabla_{\\mathbf{w}}\\mathcal{L} = -2\\left(\\mathbf{y} - Q(\\mathbf{X},\\mathbf{w})\\right)\\cdot\\mathbf{X}\n",
    "$$\n",
    "\n",
    "Let's try to implement on our own!\n",
    "\n",
    "### Model base class\n",
    "In this notebook we will define two linear models. To save our time (sorry, actually, for your practice), let's define a common base class so that most functionalities as a machine learning model can be shared. Here's the base class definition."
   ]
  },
  {
   "cell_type": "code",
   "execution_count": null,
   "metadata": {},
   "outputs": [],
   "source": [
    "class linear_model_base:\n",
    "    '''\n",
    "    The base class for linear models in this notebook.\n",
    "    This class (and its inherited children) implements 4 core functions.\n",
    "      1. forward computes the model prediction (and loss, if label is provided).\n",
    "      2. compute_loss calculates the loss and gradient given the data and label using the current parameters (weights).\n",
    "      3. backward update the gradient which is computed within forward (must call forward beforehand).\n",
    "    '''\n",
    "    def __init__(self,num_features,lr=0.001):\n",
    "        '''\n",
    "        ARGUMENTS:\n",
    "        num_features ... is the number of regression targets. y=w0 + w1*x would be 2.\n",
    "          lr ... is the learning rate fir a gradient update (optional)\n",
    "        '''\n",
    "        self._num_features = int(num_features)\n",
    "        self._w = np.zeros(shape=(num_features),dtype=np.float32)\n",
    "        self._lr = float(lr)\n",
    "        self._grad = None\n",
    "                \n",
    "    def forward(self,x,y=None):\n",
    "        '''\n",
    "        This function computes and returns a prediction. If an optional label information\n",
    "        is given, also returns the loss value and calculates the gradient internally.\n",
    "        ARGUMENTS:\n",
    "          x ... is input data of the shape [N,2] for N samples of instances [x_i,1] \n",
    "          y ... is label (optional)\n",
    "        RETURNS:\n",
    "          prediction ... model predicted values\n",
    "          loss ... the current loss value for the input data (only if y input is provided)\n",
    "        '''\n",
    "        prediction = np.dot(x,self._w)\n",
    "        if y is None: \n",
    "            return prediction\n",
    "        loss, self._grad = self.compute_loss(x,y)\n",
    "        return prediction,loss\n",
    "\n",
    "    def compute_loss(self,x,y):\n",
    "        '''\n",
    "        This is a place holder function for computing the loss. The base class implements 0 gradient\n",
    "        and invalid loss (-1).\n",
    "        ARGUMENTS:\n",
    "          x ... is input data of the shape [N,2] for N samples of instances [x_i,1]\n",
    "          y ... is label\n",
    "        RETURNS:\n",
    "          loss, gradient\n",
    "        '''\n",
    "        return -1, 0.\n",
    "    \n",
    "    def backward(self):\n",
    "        '''\n",
    "        This function applies pre-computed gradients to update the model parameters (weights).\n",
    "        '''\n",
    "        if self._grad is None:\n",
    "            raise SyntaxError('Must call forward before backward!')\n",
    "        self._w = self._w - self._lr * (self._grad)\n",
    "        self._grad=None\n"
   ]
  },
  {
   "cell_type": "markdown",
   "metadata": {},
   "source": [
    "Note that we assumed the input data $x$ has a shape $(N,2)$ for $N$ data instances of $[x_i,\\mathbb{1}]$.\n",
    "\n",
    "It includes an extra identity constant in the features so that we can treat the constnat (i.e. \"bias\", $w_0$) term in a unified matrix formula.\n",
    "\n",
    "### Exercise 2: implement a linear regression class\n",
    "This class should inherit from `linear_model_base` and implement model-specific (MSE loss + linear regression) function definitions. \n",
    "\n",
    "Give a shot looking at equations we covered earlier!"
   ]
  },
  {
   "cell_type": "code",
   "execution_count": null,
   "metadata": {},
   "outputs": [],
   "source": [
    "class linear_regression(linear_model_base):\n",
    "    \n",
    "    def compute_loss(self,x,y):\n",
    "        '''\n",
    "        Compute the MSE loss\n",
    "        ARGUMENTS:\n",
    "          x ... is input data of the shape [N,2] for N samples of instances [x_i,1]\n",
    "          y ... is label\n",
    "        RETURNS:\n",
    "          loss, gradient\n",
    "        '''\n",
    "        # your code here\n",
    "        \n",
    "        return -1.,0."
   ]
  },
  {
   "cell_type": "markdown",
   "metadata": {},
   "source": [
    "### Train loop\n",
    "Let's write a code to run the loop of optimization (training loop).  "
   ]
  },
  {
   "cell_type": "code",
   "execution_count": null,
   "metadata": {},
   "outputs": [],
   "source": [
    "def train_gradient_descent(x,y,model,num_iterations=100):\n",
    "    '''\n",
    "    Run gradient descent for a provided model\n",
    "    ARGUMENTS:\n",
    "      x ... is input data of the shape [N,2] for N samples of instances [x_i,1]\n",
    "      y ... input label\n",
    "      model ... model to be optimized\n",
    "      num_interations ... number of times parameters are updated\n",
    "    RETURNS:\n",
    "      loss ... an array of loss at each iteration\n",
    "      ws ... an array of the model weights at each iteration\n",
    "    '''\n",
    "    # Make sure the data shape matches the model's parameter count and label count\n",
    "    assert(x.shape[1]==model._w.shape[0])\n",
    "    assert(x.shape[0]==y.shape[0])\n",
    "    \n",
    "    loss, ws = [],[]\n",
    "    for idx in range(num_iterations):\n",
    "            \n",
    "        loss.append(model.forward(x,y)[1])\n",
    "        ws.append(model._w)\n",
    "        model.backward()\n",
    "        \n",
    "    return np.array(loss), np.array(ws)"
   ]
  },
  {
   "cell_type": "markdown",
   "metadata": {},
   "source": [
    "Let's run the training! \n",
    "\n",
    "Just one last point: don't forget to add an identity column in the input data $x$ as it was assumed for the model input. "
   ]
  },
  {
   "cell_type": "code",
   "execution_count": null,
   "metadata": {},
   "outputs": [],
   "source": [
    "# Prepare the input\n",
    "data_input = np.column_stack([np.ones(shape=(len(x),1),dtype=np.float32),x])\n",
    "data_label = y\n",
    "# Construct the model\n",
    "model = linear_regression(2)\n",
    "\n",
    "# Run the training\n",
    "loss,ws = train_gradient_descent(data_input,data_label,model,100)\n",
    "\n",
    "# Plot the loss\n",
    "import matplotlib.pyplot as plt\n",
    "%matplotlib inline\n",
    "fig,ax = plt.subplots(figsize=(12,8),facecolor='w')\n",
    "plt.plot(loss,marker='o',markersize=10)\n",
    "plt.yscale('log')\n",
    "plt.show()"
   ]
  },
  {
   "cell_type": "code",
   "execution_count": null,
   "metadata": {},
   "outputs": [],
   "source": [
    "import imageio\n",
    "import io\n",
    "import base64\n",
    "from IPython.display import HTML\n",
    "\n",
    "def make_plot(x,y,ws):\n",
    "    \n",
    "        fig,ax = plt.subplots(figsize=(12,8),facecolor='w')\n",
    "        ax.plot(x,y,markersize=10,marker='o',linestyle='')\n",
    "        xmin=np.min(x)\n",
    "        xmax=np.max(x)\n",
    "        ymin = ws[1]*xmin+ws[0]\n",
    "        ymax = ws[1]*xmax+ws[0]\n",
    "        ax.plot((xmin,xmax),(ymin,ymax),linewidth=2,color='red')\n",
    "        ax.set_xlim((xmin,xmax))\n",
    "        ax.set_ylim((0,np.max(y)))\n",
    "        ax.set_ylabel('$y$ (response)',fontsize=18)\n",
    "        ax.set_xlabel('$x$ (feature)',fontsize=18)\n",
    "        ax.tick_params(labelsize=15)\n",
    "        ax.grid()\n",
    "\n",
    "        fig.canvas.draw()       # draw the canvas, cache the renderer\n",
    "        image = np.frombuffer(fig.canvas.tostring_rgb(), dtype='uint8')\n",
    "        image  = image.reshape(fig.canvas.get_width_height()[::-1] + (3,))\n",
    "        plt.close()\n",
    "        return image\n",
    "\n",
    "kwargs_write = {'fps':1.0, 'quantizer':'nq'}\n",
    "imageio.mimsave('./anime.gif', [make_plot(x,y,ws[i]) for i in range(len(ws))], fps=20)\n",
    "\n",
    "video = io.open('anime.gif', 'r+b').read()\n",
    "encoded = base64.b64encode(video)\n",
    "HTML(data='''<img src=\"data:image/gif;base64,{0}\" type=\"gif\" />'''.format(encoded.decode('ascii')))"
   ]
  },
  {
   "cell_type": "markdown",
   "metadata": {},
   "source": [
    "### Loss surface\n",
    "\n",
    "Let's try to visualize how the loss distribution looks over some range of weights look like + our gradient descent's stepping points\n"
   ]
  },
  {
   "cell_type": "code",
   "execution_count": null,
   "metadata": {},
   "outputs": [],
   "source": [
    "# Compute the loss on the grid of w0 and w1 values\n",
    "w0s = np.arange(-10,10,0.1)\n",
    "w1s = np.arange(0,5,0.1)\n",
    "grid = np.array(np.meshgrid(w0s,w1s,sparse=False)).reshape(2,-1)\n",
    "loss_map = np.zeros(shape=(grid.shape[1]),dtype=np.float32)\n",
    "for i in range(grid.shape[1]):\n",
    "    model._w = grid[0,i],grid[1,i]\n",
    "    loss_map[i] = model.compute_loss(data_input,data_label)[0]\n",
    "loss_map = loss_map.reshape(len(w1s),len(w0s))\n",
    "\n",
    "# Plot the map and final fit\n",
    "from matplotlib.colors import LogNorm\n",
    "fig,axes=plt.subplots(1,2,figsize=(18,6),facecolor='w')\n",
    "# Plot the map\n",
    "axes[0].contourf(w0s,w1s,loss_map,norm=LogNorm())\n",
    "axes[0].plot(ws[:,0],ws[:,1],marker='o',linestyle='', markersize=4, color='magenta')\n",
    "axes[0].set_xlabel('$w_0$',fontsize=18)\n",
    "axes[0].set_ylabel('$w_1$',fontsize=18)\n",
    "# Plot the fit\n",
    "axes[1].plot(x,y,linestyle='',marker='o',markersize=10)\n",
    "xmin,xmax=np.min(x),np.max(x)\n",
    "ymin = ws[-1][1]*xmin+ws[-1][0]\n",
    "ymax = ws[-1][1]*xmax+ws[-1][0]\n",
    "axes[1].plot((xmin,xmax),(ymin,ymax),linewidth=2,color='red')\n",
    "axes[1].set_xlabel('x (feature)',fontsize=18)\n",
    "axes[1].set_ylabel('y (response)',fontsize=18)\n",
    "for ax in axes:\n",
    "    ax.grid()\n",
    "    ax.tick_params(labelsize=15)\n",
    "plt.show()\n"
   ]
  },
  {
   "cell_type": "markdown",
   "metadata": {},
   "source": [
    "### Stochastic GD (Exercise 3)\n",
    "Next, let's try to implement a stochastic GD. \n"
   ]
  },
  {
   "cell_type": "code",
   "execution_count": null,
   "metadata": {},
   "outputs": [],
   "source": [
    "\n",
    "def train_sgd(x,y,model,batch_size,num_iterations=100):\n",
    "    '''\n",
    "    Run mini-batch stochastic gradient descent for a provided model\n",
    "    ARGUMENTS:\n",
    "      x ... is input data of the shape [N,2] for N samples of instances [x_i,1]\n",
    "      y ... input label\n",
    "      model ... model to be optimized\n",
    "      batch_size ... the batch size to be used for SGD.\n",
    "      num_interations ... number of times parameters are updated\n",
    "    RETURNS:\n",
    "      loss ... an array of loss at each iteration\n",
    "      ws ... an array of the model weights at each iteration\n",
    "    '''\n",
    "    assert(x.shape[1]==model._w.shape[0])\n",
    "    assert(x.shape[0]==y.shape[0])\n",
    "    assert(batch_size>0)\n",
    "    loss, ws = [],[]\n",
    "    \n",
    "    # Your code here\n",
    "        \n",
    "    return np.array(loss), np.array(ws)"
   ]
  },
  {
   "cell_type": "markdown",
   "metadata": {},
   "source": [
    "### Training SGD\n",
    "Let's run it!"
   ]
  },
  {
   "cell_type": "code",
   "execution_count": null,
   "metadata": {},
   "outputs": [],
   "source": [
    "# Prepare the input\n",
    "data_input = np.column_stack([np.ones(shape=(len(x),1),dtype=np.float32),x])\n",
    "data_label = y\n",
    "# Construct the model\n",
    "model = linear_regression(2)\n",
    "\n",
    "# Run the training\n",
    "loss,ws = train_sgd(x=data_input,\n",
    "                    y=data_label,\n",
    "                    model=model,\n",
    "                    batch_size=5,\n",
    "                    num_iterations=100)\n",
    "\n",
    "# Plot the loss\n",
    "import matplotlib.pyplot as plt\n",
    "%matplotlib inline\n",
    "fig,ax = plt.subplots(figsize=(12,8),facecolor='w')\n",
    "plt.plot(loss,marker='o',markersize=10)\n",
    "plt.yscale('log')\n",
    "plt.show()"
   ]
  },
  {
   "cell_type": "code",
   "execution_count": null,
   "metadata": {},
   "outputs": [],
   "source": [
    "# Compute the loss on the grid of w0 and w1 values\n",
    "w0s = np.arange(-10,10,0.1)\n",
    "w1s = np.arange(0,5,0.1)\n",
    "grid = np.array(np.meshgrid(w0s,w1s,sparse=False)).reshape(2,-1)\n",
    "loss_map = np.zeros(shape=(grid.shape[1]),dtype=np.float32)\n",
    "for i in range(grid.shape[1]):\n",
    "    model._w = grid[0,i],grid[1,i]\n",
    "    loss_map[i] = model.compute_loss(data_input,data_label)[0]\n",
    "loss_map = loss_map.reshape(len(w1s),len(w0s))\n",
    "\n",
    "# Plot the map and final fit\n",
    "from matplotlib.colors import LogNorm\n",
    "fig,axes=plt.subplots(1,2,figsize=(18,6),facecolor='w')\n",
    "# Plot the map\n",
    "axes[0].contourf(w0s,w1s,loss_map,norm=LogNorm())\n",
    "axes[0].plot(ws[:,0],ws[:,1],marker='o',linestyle='', markersize=4, color='magenta')\n",
    "axes[0].set_xlabel('$w_0$',fontsize=18)\n",
    "axes[0].set_ylabel('$w_1$',fontsize=18)\n",
    "# Plot the fit\n",
    "axes[1].plot(x,y,linestyle='',marker='o',markersize=10)\n",
    "xmin,xmax=np.min(x),np.max(x)\n",
    "ymin = ws[-1][1]*xmin+ws[-1][0]\n",
    "ymax = ws[-1][1]*xmax+ws[-1][0]\n",
    "axes[1].plot((xmin,xmax),(ymin,ymax),linewidth=2,color='red')\n",
    "axes[1].set_xlabel('x (feature)',fontsize=18)\n",
    "axes[1].set_ylabel('y (response)',fontsize=18)\n",
    "for ax in axes:\n",
    "    ax.grid()\n",
    "    ax.tick_params(labelsize=15)\n",
    "plt.show()"
   ]
  },
  {
   "cell_type": "markdown",
   "metadata": {},
   "source": [
    "### Exercise 4\n",
    "\n",
    "Compare how the behavior of the parameter updates (magenta points in $w_0$ v.s. $w_1$ contour plot) between GD and SGD with a batch size 5. How do they behave differently? \n",
    "\n",
    "## Logistic Regression\n",
    "\n",
    "Next, let's try a linear model on a simple classification task: we will generate two class of data points in 2D using a gaussian distribution with different mean values (+1 and -1)."
   ]
  },
  {
   "cell_type": "code",
   "execution_count": null,
   "metadata": {},
   "outputs": [],
   "source": [
    "np.random.seed(123)\n",
    "sample_stat = 2000\n",
    "a = np.random.normal(1,1,sample_stat).reshape(int(sample_stat/2),2)\n",
    "b = np.random.normal(-1,1,sample_stat).reshape(int(sample_stat/2),2)\n",
    "a = np.column_stack([a,np.zeros(shape=(len(a)),dtype=np.float32)])\n",
    "b = np.column_stack([b,np.ones(shape=(len(b)),dtype=np.float32)])\n",
    "data = np.concatenate([a,b])\n",
    "np.random.shuffle(data)\n",
    "x,y = data[:,:2],data[:,2]"
   ]
  },
  {
   "cell_type": "markdown",
   "metadata": {},
   "source": [
    "Visualize the dataset"
   ]
  },
  {
   "cell_type": "code",
   "execution_count": null,
   "metadata": {},
   "outputs": [],
   "source": [
    "fig,ax=plt.subplots(figsize=(12,8),facecolor='w')\n",
    "pos = y>0\n",
    "neg = y<1\n",
    "ax.plot(x[pos][:,0],x[pos][:,1],marker='o',markersize=6,linestyle='',color='red')\n",
    "ax.plot(x[neg][:,0],x[neg][:,1],marker='x',markersize=6,linestyle='',color='blue')\n",
    "plt.ylabel('$x_0$ ',fontsize=18)\n",
    "plt.xlabel('$x_1$ ',fontsize=18)\n",
    "plt.show()"
   ]
  },
  {
   "cell_type": "markdown",
   "metadata": {},
   "source": [
    "### Exercise 5\n",
    "\n",
    "Inherit from `linear_mode_base` and implement a `logistic_regression` class.\n",
    "\n",
    "$$\n",
    "\\mathcal{L} = \\frac{1}{m}\\sum(-\\mathbf{y}^T\\cdot\\log Q(\\mathbf{x},\\mathbf{w}) - (1-y)^T\\cdot\\log (1-Q(\\mathbf{x},\\mathbf{w}))\n",
    "$$\n",
    "\n",
    "$$\n",
    "\\nabla_{\\mathbf{w}}\\mathcal{L}=\\mathbf{x}^T(Q(\\mathbf{x},\\mathbf{w}) - \\mathbf{y})\n",
    "$$"
   ]
  },
  {
   "cell_type": "code",
   "execution_count": null,
   "metadata": {},
   "outputs": [],
   "source": [
    "class logistic_regression(linear_model_base):\n",
    "    \n",
    "    def compute_loss(self,x,y):\n",
    "        '''\n",
    "        Compute the MSE loss\n",
    "        ARGUMENTS:\n",
    "          x ... is input data of the shape [N,2] for N samples of instances [x_i,1]\n",
    "          y ... is label\n",
    "        RETURNS:\n",
    "          loss, gradient\n",
    "        '''\n",
    "        # Your code here\n",
    "        return -1, 0."
   ]
  },
  {
   "cell_type": "markdown",
   "metadata": {},
   "source": [
    "### Training your logistic regression model (Exercise 6)\n",
    "Let's run a similar loop!"
   ]
  },
  {
   "cell_type": "code",
   "execution_count": null,
   "metadata": {},
   "outputs": [],
   "source": [
    "# Your code here"
   ]
  },
  {
   "cell_type": "markdown",
   "metadata": {},
   "source": [
    "### Plot the decision boundary line (Exercise 7)\n",
    "\n",
    "Plot the decision boundary (i.e. a linear equation) and overlay on top of the data!"
   ]
  },
  {
   "cell_type": "code",
   "execution_count": null,
   "metadata": {},
   "outputs": [],
   "source": [
    "# Your code here"
   ]
  },
  {
   "cell_type": "markdown",
   "metadata": {},
   "source": [
    "### Sigmoid probability distribution\n",
    "\n",
    "For fun, let's plot the sigmoid probability distribution like we tried for a linear regression's loss surface.\n",
    "\n",
    "As long as it's clear where the decision boundaries are and you are plotting a sigmoid probability, it would be fine (so be artistic)!"
   ]
  },
  {
   "cell_type": "code",
   "execution_count": null,
   "metadata": {},
   "outputs": [],
   "source": [
    "from matplotlib.colors import LogNorm\n",
    "\n",
    "# Just for fun, this time let's make 2D histogram instead of meshgrid+contour\n",
    "nx,ny=300,300\n",
    "prob_map=np.zeros(shape=(nx*ny,3),dtype=np.float32)\n",
    "vrange=((data_input[:,1].min(),data_input[:,1].max()),(data_input[:,2].min(),data_input[:,2].max()))\n",
    "for i in range(nx):\n",
    "    x0 = (vrange[0][1]-vrange[0][0])/nx * i + vrange[0][0]\n",
    "    for j in range(ny):\n",
    "        x1 = (vrange[1][1]-vrange[1][0])/ny * j + vrange[1][0]\n",
    "        prob = abs(model.sigmoid(model.forward(np.array([1,x0,x1]))) - 0.5)\n",
    "        prob_map[i*ny+j]=(x0,x1,prob)\n",
    "\n",
    "fig,ax=plt.subplots(figsize=(12,8),facecolor='w')\n",
    "# Plot the histogram 2d\n",
    "ax.hist2d(prob_map[:,0],prob_map[:,1],bins=(nx,ny),weights=prob_map[:,2],cmap='inferno')\n",
    "# Plot the data points\n",
    "pos = y>0\n",
    "neg = y<1\n",
    "ax.plot(x[pos][:,0],x[pos][:,1],marker='o',markersize=6,linestyle='',color='red')\n",
    "ax.plot(x[neg][:,0],x[neg][:,1],marker='x',markersize=6,linestyle='',color='blue')\n",
    "plt.ylabel('$x_1$',fontsize=18)\n",
    "plt.xlabel('$x_0$',fontsize=18)\n",
    "plt.show()\n"
   ]
  },
  {
   "cell_type": "markdown",
   "metadata": {},
   "source": [
    "### ROC curve (Exercise 8)\n",
    "\n",
    "For this trained model, plot the ROC curve using a different score threshold value."
   ]
  },
  {
   "cell_type": "code",
   "execution_count": null,
   "metadata": {},
   "outputs": [],
   "source": [
    "# Your code here"
   ]
  },
  {
   "cell_type": "markdown",
   "metadata": {},
   "source": [
    "## Linear regression using Pytorch\n",
    "\n",
    "Hopefully you are very familiar with linear regression now. \n",
    "\n",
    "Let's now learn one more thing, Pytorch machine learning library, which we will use to play with neural networks later.\n",
    "\n",
    "### Defining a model\n",
    "\n",
    "First, let's define a model for a linear regression. "
   ]
  },
  {
   "cell_type": "code",
   "execution_count": null,
   "metadata": {},
   "outputs": [],
   "source": [
    "import torch \n",
    "\n",
    "class linear_regression(torch.nn.Module):\n",
    "    \n",
    "    def __init__(self,num_features):\n",
    "        super(linear_regression,self).__init__()\n",
    "        # Define a linear model with a bias term\n",
    "        self._linear = torch.nn.Linear(num_features,1,bias=True)\n",
    "        \n",
    "    def forward(self,x):\n",
    "        return self._linear(x)"
   ]
  },
  {
   "cell_type": "markdown",
   "metadata": {},
   "source": [
    "...yes, that's it! \n",
    "\n",
    "In fact, as we can see, we don't even need to define our model as a class since pytorch already provides a model (`torch.nn.Linear`).\n",
    "\n",
    "But we did it anyway as a practice to define our own model by inheriting from `torch.nn.Module` base class.\n",
    "\n",
    "### Generate $y=ax+\\epsilon$ dataset\n",
    "\n",
    "Now let's make some data"
   ]
  },
  {
   "cell_type": "code",
   "execution_count": null,
   "metadata": {},
   "outputs": [],
   "source": [
    "# Use the same data generation function we used before\n",
    "a,b=2.0,1.5\n",
    "x,y=sample_linear_regression(a,b,num_sample=100)\n",
    "\n",
    "# Convert them into a torch input. Shape should be (N,F) where N=number of samples, F=features/labels\n",
    "torch_input = torch.Tensor(x).view(-1,1)\n",
    "torch_label = torch.Tensor(y).view(-1,1)"
   ]
  },
  {
   "cell_type": "markdown",
   "metadata": {},
   "source": [
    "Next, let's define a loss and write a train loop"
   ]
  },
  {
   "cell_type": "code",
   "execution_count": null,
   "metadata": {},
   "outputs": [],
   "source": [
    "def train_torch(model,num_iterations=100):\n",
    "    # Create a MSE loss module\n",
    "    criterion = torch.nn.MSELoss()\n",
    "    # Create an optimizer\n",
    "    optimizer = torch.optim.SGD(model.parameters(), lr = 0.001)\n",
    "\n",
    "    # Now we run the training!\n",
    "    loss_v=[]\n",
    "    for idx in range(num_iterations): \n",
    "\n",
    "        # This is \"forward\" computation\n",
    "        prediction = model(torch_input) \n",
    "\n",
    "        # Compute the loss\n",
    "        loss = criterion(prediction, torch_label) \n",
    "\n",
    "        # Next, we call \"backward\" to update the weights.\n",
    "        # Don't forget to reset the gradient each time we call \"backward\".\n",
    "        optimizer.zero_grad() \n",
    "        loss.backward() \n",
    "\n",
    "        # Now let optimizer to \"take a step\"\n",
    "        optimizer.step() \n",
    "\n",
    "        # Record the loss\n",
    "        loss_v.append(loss.item())\n",
    "        \n",
    "    return loss_v"
   ]
  },
  {
   "cell_type": "markdown",
   "metadata": {},
   "source": [
    "### Train a pytorch model\n",
    "\n",
    "Create our model instance + train + plot the loss!"
   ]
  },
  {
   "cell_type": "code",
   "execution_count": null,
   "metadata": {},
   "outputs": [],
   "source": [
    "# Create a model \n",
    "model = linear_regression(1) \n",
    "\n",
    "# Train\n",
    "loss = train_torch(model)\n",
    "\n",
    "# Plot the loss\n",
    "import matplotlib.pyplot as plt\n",
    "%matplotlib inline\n",
    "fig,ax = plt.subplots(figsize=(12,8),facecolor='w')\n",
    "plt.plot(loss,marker='o',markersize=10)\n",
    "plt.ylabel('Loss',fontsize=18)\n",
    "plt.xlabel('Iterations',fontsize=18)\n",
    "plt.show()"
   ]
  },
  {
   "cell_type": "markdown",
   "metadata": {},
   "source": [
    "### Check the parameter values\n",
    "\n",
    "Check the trained parameter values"
   ]
  },
  {
   "cell_type": "code",
   "execution_count": null,
   "metadata": {},
   "outputs": [],
   "source": [
    "print('Weight',model._linear.weight.item())\n",
    "print('Bias',model._linear.bias.item())"
   ]
  }
 ],
 "metadata": {
  "kernelspec": {
   "display_name": "Python 3",
   "language": "python",
   "name": "python3"
  },
  "language_info": {
   "codemirror_mode": {
    "name": "ipython",
    "version": 3
   },
   "file_extension": ".py",
   "mimetype": "text/x-python",
   "name": "python",
   "nbconvert_exporter": "python",
   "pygments_lexer": "ipython3",
   "version": "3.7.4-final"
  }
 },
 "nbformat": 4,
 "nbformat_minor": 4
}